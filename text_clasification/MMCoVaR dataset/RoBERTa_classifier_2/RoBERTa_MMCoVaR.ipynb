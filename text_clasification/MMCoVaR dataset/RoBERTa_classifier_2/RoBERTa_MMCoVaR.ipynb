{
 "cells": [
  {
   "cell_type": "code",
   "execution_count": null,
   "metadata": {},
   "outputs": [
    {
     "name": "stderr",
     "output_type": "stream",
     "text": [
      "c:\\Users\\Lukag\\miniconda3\\Lib\\site-packages\\tqdm\\auto.py:21: TqdmWarning: IProgress not found. Please update jupyter and ipywidgets. See https://ipywidgets.readthedocs.io/en/stable/user_install.html\n",
      "  from .autonotebook import tqdm as notebook_tqdm\n"
     ]
    },
    {
     "name": "stdout",
     "output_type": "stream",
     "text": [
      "Ratio of target value:\n",
      " target\n",
      "1    0.630544\n",
      "0    0.369456\n",
      "Name: proportion, dtype: float64\n",
      "TRAIN Dataset shape: (2074,)\n",
      "TEST Dataset shape: (519,)\n"
     ]
    },
    {
     "name": "stderr",
     "output_type": "stream",
     "text": [
      "Training:   0%|          | 0/260 [00:00<?, ?it/s]"
     ]
    },
    {
     "name": "stdout",
     "output_type": "stream",
     "text": [
      "Step 0: Training Loss: 0.7439, Training Accuracy: 25.00%\n"
     ]
    },
    {
     "name": "stderr",
     "output_type": "stream",
     "text": [
      "Training:   0%|          | 1/260 [00:13<57:56, 13.42s/it]\n"
     ]
    },
    {
     "ename": "KeyboardInterrupt",
     "evalue": "",
     "output_type": "error",
     "traceback": [
      "\u001b[1;31m---------------------------------------------------------------------------\u001b[0m",
      "\u001b[1;31mKeyboardInterrupt\u001b[0m                         Traceback (most recent call last)",
      "Cell \u001b[1;32mIn[1], line 98\u001b[0m\n\u001b[0;32m     95\u001b[0m trainer\u001b[38;5;241m.\u001b[39mbuild_model()\n\u001b[0;32m     97\u001b[0m \u001b[38;5;66;03m# Step 4: Train the model.\u001b[39;00m\n\u001b[1;32m---> 98\u001b[0m \u001b[43mtrainer\u001b[49m\u001b[38;5;241;43m.\u001b[39;49m\u001b[43mtrain_model\u001b[49m\u001b[43m(\u001b[49m\u001b[43mepochs\u001b[49m\u001b[38;5;241;43m=\u001b[39;49m\u001b[43mEPOCHS\u001b[49m\u001b[43m,\u001b[49m\u001b[43m \u001b[49m\u001b[43mlearning_rate\u001b[49m\u001b[38;5;241;43m=\u001b[39;49m\u001b[43mLEARNING_RATE\u001b[49m\u001b[43m)\u001b[49m\n\u001b[0;32m    100\u001b[0m \u001b[38;5;66;03m# Step 5: Evaluate the model.\u001b[39;00m\n\u001b[0;32m    101\u001b[0m acc, prec, rec \u001b[38;5;241m=\u001b[39m trainer\u001b[38;5;241m.\u001b[39mevaluate_model()\n",
      "File \u001b[1;32mc:\\Users\\Lukag\\OneDrive\\Documents\\git\\IJS\\text_clasification_2\\MMCoVaR dataset\\RoBERTa_classifier_2\\RoBERTa_classifier.py:196\u001b[0m, in \u001b[0;36mRobertaTrainer.train_model\u001b[1;34m(self, epochs, learning_rate)\u001b[0m\n\u001b[0;32m    193\u001b[0m         \u001b[38;5;28mprint\u001b[39m(\u001b[38;5;124mf\u001b[39m\u001b[38;5;124m\"\u001b[39m\u001b[38;5;124mStep \u001b[39m\u001b[38;5;132;01m{\u001b[39;00mstep\u001b[38;5;132;01m}\u001b[39;00m\u001b[38;5;124m: Training Loss: \u001b[39m\u001b[38;5;132;01m{\u001b[39;00mloss_step\u001b[38;5;132;01m:\u001b[39;00m\u001b[38;5;124m.4f\u001b[39m\u001b[38;5;132;01m}\u001b[39;00m\u001b[38;5;124m, Training Accuracy: \u001b[39m\u001b[38;5;132;01m{\u001b[39;00maccu_step\u001b[38;5;132;01m:\u001b[39;00m\u001b[38;5;124m.2f\u001b[39m\u001b[38;5;132;01m}\u001b[39;00m\u001b[38;5;124m%\u001b[39m\u001b[38;5;124m\"\u001b[39m)\n\u001b[0;32m    195\u001b[0m     optimizer\u001b[38;5;241m.\u001b[39mzero_grad()\n\u001b[1;32m--> 196\u001b[0m     \u001b[43mloss\u001b[49m\u001b[38;5;241;43m.\u001b[39;49m\u001b[43mbackward\u001b[49m\u001b[43m(\u001b[49m\u001b[43m)\u001b[49m\n\u001b[0;32m    197\u001b[0m     optimizer\u001b[38;5;241m.\u001b[39mstep()\n\u001b[0;32m    199\u001b[0m epoch_loss \u001b[38;5;241m=\u001b[39m tr_loss \u001b[38;5;241m/\u001b[39m nb_tr_steps\n",
      "File \u001b[1;32mc:\\Users\\Lukag\\miniconda3\\Lib\\site-packages\\torch\\_tensor.py:581\u001b[0m, in \u001b[0;36mTensor.backward\u001b[1;34m(self, gradient, retain_graph, create_graph, inputs)\u001b[0m\n\u001b[0;32m    571\u001b[0m \u001b[38;5;28;01mif\u001b[39;00m has_torch_function_unary(\u001b[38;5;28mself\u001b[39m):\n\u001b[0;32m    572\u001b[0m     \u001b[38;5;28;01mreturn\u001b[39;00m handle_torch_function(\n\u001b[0;32m    573\u001b[0m         Tensor\u001b[38;5;241m.\u001b[39mbackward,\n\u001b[0;32m    574\u001b[0m         (\u001b[38;5;28mself\u001b[39m,),\n\u001b[1;32m   (...)\u001b[0m\n\u001b[0;32m    579\u001b[0m         inputs\u001b[38;5;241m=\u001b[39minputs,\n\u001b[0;32m    580\u001b[0m     )\n\u001b[1;32m--> 581\u001b[0m \u001b[43mtorch\u001b[49m\u001b[38;5;241;43m.\u001b[39;49m\u001b[43mautograd\u001b[49m\u001b[38;5;241;43m.\u001b[39;49m\u001b[43mbackward\u001b[49m\u001b[43m(\u001b[49m\n\u001b[0;32m    582\u001b[0m \u001b[43m    \u001b[49m\u001b[38;5;28;43mself\u001b[39;49m\u001b[43m,\u001b[49m\u001b[43m \u001b[49m\u001b[43mgradient\u001b[49m\u001b[43m,\u001b[49m\u001b[43m \u001b[49m\u001b[43mretain_graph\u001b[49m\u001b[43m,\u001b[49m\u001b[43m \u001b[49m\u001b[43mcreate_graph\u001b[49m\u001b[43m,\u001b[49m\u001b[43m \u001b[49m\u001b[43minputs\u001b[49m\u001b[38;5;241;43m=\u001b[39;49m\u001b[43minputs\u001b[49m\n\u001b[0;32m    583\u001b[0m \u001b[43m\u001b[49m\u001b[43m)\u001b[49m\n",
      "File \u001b[1;32mc:\\Users\\Lukag\\miniconda3\\Lib\\site-packages\\torch\\autograd\\__init__.py:347\u001b[0m, in \u001b[0;36mbackward\u001b[1;34m(tensors, grad_tensors, retain_graph, create_graph, grad_variables, inputs)\u001b[0m\n\u001b[0;32m    342\u001b[0m     retain_graph \u001b[38;5;241m=\u001b[39m create_graph\n\u001b[0;32m    344\u001b[0m \u001b[38;5;66;03m# The reason we repeat the same comment below is that\u001b[39;00m\n\u001b[0;32m    345\u001b[0m \u001b[38;5;66;03m# some Python versions print out the first line of a multi-line function\u001b[39;00m\n\u001b[0;32m    346\u001b[0m \u001b[38;5;66;03m# calls in the traceback and some print out the last line\u001b[39;00m\n\u001b[1;32m--> 347\u001b[0m \u001b[43m_engine_run_backward\u001b[49m\u001b[43m(\u001b[49m\n\u001b[0;32m    348\u001b[0m \u001b[43m    \u001b[49m\u001b[43mtensors\u001b[49m\u001b[43m,\u001b[49m\n\u001b[0;32m    349\u001b[0m \u001b[43m    \u001b[49m\u001b[43mgrad_tensors_\u001b[49m\u001b[43m,\u001b[49m\n\u001b[0;32m    350\u001b[0m \u001b[43m    \u001b[49m\u001b[43mretain_graph\u001b[49m\u001b[43m,\u001b[49m\n\u001b[0;32m    351\u001b[0m \u001b[43m    \u001b[49m\u001b[43mcreate_graph\u001b[49m\u001b[43m,\u001b[49m\n\u001b[0;32m    352\u001b[0m \u001b[43m    \u001b[49m\u001b[43minputs\u001b[49m\u001b[43m,\u001b[49m\n\u001b[0;32m    353\u001b[0m \u001b[43m    \u001b[49m\u001b[43mallow_unreachable\u001b[49m\u001b[38;5;241;43m=\u001b[39;49m\u001b[38;5;28;43;01mTrue\u001b[39;49;00m\u001b[43m,\u001b[49m\n\u001b[0;32m    354\u001b[0m \u001b[43m    \u001b[49m\u001b[43maccumulate_grad\u001b[49m\u001b[38;5;241;43m=\u001b[39;49m\u001b[38;5;28;43;01mTrue\u001b[39;49;00m\u001b[43m,\u001b[49m\n\u001b[0;32m    355\u001b[0m \u001b[43m\u001b[49m\u001b[43m)\u001b[49m\n",
      "File \u001b[1;32mc:\\Users\\Lukag\\miniconda3\\Lib\\site-packages\\torch\\autograd\\graph.py:825\u001b[0m, in \u001b[0;36m_engine_run_backward\u001b[1;34m(t_outputs, *args, **kwargs)\u001b[0m\n\u001b[0;32m    823\u001b[0m     unregister_hooks \u001b[38;5;241m=\u001b[39m _register_logging_hooks_on_whole_graph(t_outputs)\n\u001b[0;32m    824\u001b[0m \u001b[38;5;28;01mtry\u001b[39;00m:\n\u001b[1;32m--> 825\u001b[0m     \u001b[38;5;28;01mreturn\u001b[39;00m \u001b[43mVariable\u001b[49m\u001b[38;5;241;43m.\u001b[39;49m\u001b[43m_execution_engine\u001b[49m\u001b[38;5;241;43m.\u001b[39;49m\u001b[43mrun_backward\u001b[49m\u001b[43m(\u001b[49m\u001b[43m  \u001b[49m\u001b[38;5;66;43;03m# Calls into the C++ engine to run the backward pass\u001b[39;49;00m\n\u001b[0;32m    826\u001b[0m \u001b[43m        \u001b[49m\u001b[43mt_outputs\u001b[49m\u001b[43m,\u001b[49m\u001b[43m \u001b[49m\u001b[38;5;241;43m*\u001b[39;49m\u001b[43margs\u001b[49m\u001b[43m,\u001b[49m\u001b[43m \u001b[49m\u001b[38;5;241;43m*\u001b[39;49m\u001b[38;5;241;43m*\u001b[39;49m\u001b[43mkwargs\u001b[49m\n\u001b[0;32m    827\u001b[0m \u001b[43m    \u001b[49m\u001b[43m)\u001b[49m  \u001b[38;5;66;03m# Calls into the C++ engine to run the backward pass\u001b[39;00m\n\u001b[0;32m    828\u001b[0m \u001b[38;5;28;01mfinally\u001b[39;00m:\n\u001b[0;32m    829\u001b[0m     \u001b[38;5;28;01mif\u001b[39;00m attach_logging_hooks:\n",
      "\u001b[1;31mKeyboardInterrupt\u001b[0m: "
     ]
    }
   ],
   "source": [
    "# =============================================================================\n",
    "# 1. IMPORT LIBRARIES\n",
    "# =============================================================================\n",
    "import os\n",
    "import logging\n",
    "import pandas as pd\n",
    "import numpy as np\n",
    "from tqdm import tqdm\n",
    "import torch\n",
    "from torch import cuda\n",
    "from torch.utils.data import Dataset, DataLoader\n",
    "from sklearn.model_selection import train_test_split\n",
    "from sklearn.metrics import precision_score, recall_score\n",
    "from transformers import RobertaModel, RobertaTokenizer\n",
    "import sys\n",
    "\n",
    "current_dir = os.getcwd()\n",
    "two_steps_back = os.path.dirname(os.path.dirname(current_dir))\n",
    "sys.path.append(two_steps_back)\n",
    "from RoBERTa_classifier import RobertaTrainer, RobertaTokenizer\n",
    "\n",
    "logging.basicConfig(level=logging.ERROR)\n",
    "\n",
    "# =============================================================================\n",
    "# 2. CONSTANTS & VARIABLES\n",
    "# =============================================================================\n",
    "# Device configuration\n",
    "DEVICE = 'cuda' if cuda.is_available() else 'cpu'\n",
    "\n",
    "# Data paths\n",
    "BASE_DIR = os.path.dirname(os.getcwd())\n",
    "TWO_FOLDERS_BACK = os.path.dirname(os.path.dirname(os.getcwd()))\n",
    "DATA_FOLDER = os.path.join(TWO_FOLDERS_BACK, 'data')\n",
    "DATA_PATH = os.path.join(DATA_FOLDER, 'MMCoVaR_News_Dataset.csv')\n",
    "\n",
    "# Hyperparameters and settings\n",
    "MAX_LEN = 512\n",
    "TRAIN_BATCH_SIZE = 8\n",
    "VALID_BATCH_SIZE = 4\n",
    "TEST_SIZE = 0.2\n",
    "EPOCHS = 4\n",
    "LEARNING_RATE = 1e-05\n",
    "PADDING = \"max_length\"\n",
    "RANDOM_STATE = 200\n",
    "\n",
    "# Columns for text and target\n",
    "TEXT_COLUMN = \"clean_text\"  # Make sure your DataFrame has this column; otherwise adjust accordingly.\n",
    "TARGET_COLUMN = \"target\"\n",
    "\n",
    "# =============================================================================\n",
    "# 3. DATA UPLOAD & PREPARATION\n",
    "# =============================================================================\n",
    "# Load dataset\n",
    "df_MMCoVaR = pd.read_csv(DATA_PATH)\n",
    "# Mark all data as nonsynthetic (or update accordingly)\n",
    "df_MMCoVaR['synthetic'] = False\n",
    "\n",
    "# Prepare the DataFrame with required columns.\n",
    "df_MMCoVaR_train = df_MMCoVaR[['body_text', 'reliability']].copy()\n",
    "df_MMCoVaR_train.columns = [TEXT_COLUMN, TARGET_COLUMN]\n",
    "df_MMCoVaR_train['synthetic'] = False\n",
    "\n",
    "df = df_MMCoVaR_train\n",
    "\n",
    "print(\"Ratio of target value:\\n\", df[TARGET_COLUMN].value_counts(normalize=True))\n",
    "\n",
    "\n",
    "# =============================================================================\n",
    "# 3. RUN ROBERTA\n",
    "# =============================================================================\n",
    "\n",
    "\n",
    "\n",
    "# Initialize the Roberta tokenizer.\n",
    "tokenizer = RobertaTokenizer.from_pretrained('distilroberta-base', truncation=True, do_lower_case=True)\n",
    "\n",
    "\n",
    "# Create an instance of our trainer.\n",
    "trainer = RobertaTrainer(\n",
    "    df=df,\n",
    "    tokenizer=tokenizer,\n",
    "    max_len=MAX_LEN,\n",
    "    train_batch_size=TRAIN_BATCH_SIZE,\n",
    "    valid_batch_size=VALID_BATCH_SIZE,\n",
    "    test_size=TEST_SIZE,\n",
    "    device=DEVICE,\n",
    "    padding=PADDING,\n",
    "    text_column=TEXT_COLUMN,\n",
    "    target_column=TARGET_COLUMN,\n",
    "    random_state=RANDOM_STATE,\n",
    "\n",
    "\n",
    ")\n",
    "\n",
    "# Step 2: Tokenize the data and create DataLoaders.\n",
    "trainer.tokenize_data()\n",
    "\n",
    "# Step 3: Build the model.\n",
    "trainer.build_model()\n",
    "\n",
    "# Step 4: Train the model.\n",
    "trainer.train_model(epochs=EPOCHS, learning_rate=LEARNING_RATE)\n",
    "\n",
    "# Step 5: Evaluate the model.\n",
    "acc, prec, rec = trainer.evaluate_model()\n",
    "print(f\"Test Accuracy: {acc:.2f}%\")\n",
    "print(f\"Test Precision: {prec * 100:.2f}%\")\n",
    "print(f\"Test Recall: {rec * 100:.2f}%\")\n",
    "\n",
    "# Save the model and tokenizer.\n",
    "output_model_file = 'pytorch_roberta_MMCoVaR.bin'\n",
    "output_tokenizer_file = 'pytorch_roberta_MMCoVaR_tokenizer.bin'\n",
    "output_vocab_file = 'results_ROBERTA'\n",
    "directory_to_save = os.path.join(os.getcwd(), \"saved_model\", output_model_file)\n",
    "directory_to_save_tokenizer = os.path.join(os.getcwd(), \"saved_model\", output_tokenizer_file)\n",
    "\n",
    "trainer.save_model(os.path.join(os.getcwd(), \"saved_model\", output_model_file), os.getcwd())\n",
    "tokenizer.save_vocabulary(directory_to_save, directory_to_save_tokenizer)"
   ]
  },
  {
   "cell_type": "code",
   "execution_count": null,
   "metadata": {},
   "outputs": [],
   "source": []
  },
  {
   "cell_type": "code",
   "execution_count": null,
   "metadata": {},
   "outputs": [],
   "source": []
  }
 ],
 "metadata": {
  "kernelspec": {
   "display_name": "base",
   "language": "python",
   "name": "python3"
  },
  "language_info": {
   "codemirror_mode": {
    "name": "ipython",
    "version": 3
   },
   "file_extension": ".py",
   "mimetype": "text/x-python",
   "name": "python",
   "nbconvert_exporter": "python",
   "pygments_lexer": "ipython3",
   "version": "3.12.7"
  }
 },
 "nbformat": 4,
 "nbformat_minor": 2
}
