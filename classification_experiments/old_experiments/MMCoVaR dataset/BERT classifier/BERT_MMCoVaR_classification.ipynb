{
 "cells": [
  {
   "cell_type": "code",
   "execution_count": null,
   "metadata": {},
   "outputs": [
    {
     "name": "stdout",
     "output_type": "stream",
     "text": [
      "Loading BERT tokenizer...\n",
      "Tokenizing 2593 sentences...\n",
      "Tokenization complete.\n",
      "DataLoaders created:\n",
      "  Training batches: 65\n",
      "  Validation batches: 17\n",
      "Loading BERT model for sequence classification...\n"
     ]
    },
    {
     "name": "stderr",
     "output_type": "stream",
     "text": [
      "Some weights of BertForSequenceClassification were not initialized from the model checkpoint at bert-base-uncased and are newly initialized: ['classifier.bias', 'classifier.weight']\n",
      "You should probably TRAIN this model on a down-stream task to be able to use it for predictions and inference.\n",
      "c:\\Users\\Lukag\\miniconda3\\Lib\\site-packages\\transformers\\optimization.py:591: FutureWarning: This implementation of AdamW is deprecated and will be removed in a future version. Use the PyTorch implementation torch.optim.AdamW instead, or set `no_deprecation_warning=True` to disable this warning\n",
      "  warnings.warn(\n"
     ]
    },
    {
     "name": "stdout",
     "output_type": "stream",
     "text": [
      "Model loaded on device: cpu\n",
      "\n",
      "======== Epoch 1 / 4 ========\n",
      "Training...\n"
     ]
    }
   ],
   "source": [
    "import pandas as pd\n",
    "from BERT_classifier import BertTrainer\n",
    "import os\n",
    "\n",
    "# 1. Import your dataset.\n",
    "current_dir = os.getcwd()\n",
    "two_files_back = os.path.dirname(os.path.dirname(current_dir))\n",
    "file = os.path.join(two_files_back, \"data\", \"MMCoVaR_News_Dataset.csv\")\n",
    "df = pd.read_csv(file)\n",
    "# Assuming your CSV has columns like 'body_text' and 'reliability'\n",
    "# If needed, rename or process columns so that you have a text and target column.\n",
    "df = df.rename(columns={\"body_text\": \"text\", \"reliability\": \"target\"})\n",
    "\n",
    "# 2. Create an instance of the trainer.\n",
    "trainer = BertTrainer(\n",
    "    df,\n",
    "    text_column=\"text\",\n",
    "    label_column=\"target\",\n",
    "    model_name=\"bert-base-uncased\",\n",
    "    max_length=512,\n",
    "    batch_size=32,\n",
    "    random_state=2018  # use your desired seed\n",
    ")\n",
    "\n",
    "# 3. Tokenize the dataset with custom tokenization parameters.\n",
    "trainer.tokenize_dataset(\n",
    "    add_special_tokens=True,\n",
    "    padding=\"max_length\",\n",
    "    truncation=True,\n",
    ")\n",
    "\n",
    "# 4. Prepare the DataLoaders (optionally set test_size).\n",
    "trainer.prepare_dataloader(test_size=0.2)\n",
    "\n",
    "# 5. Build the model.\n",
    "trainer.build_model(num_labels=2)\n",
    "\n",
    "# 6. Train the model (set training parameters as needed).\n",
    "trainer.train_model(\n",
    "    epochs=4,\n",
    "    learning_rate=2e-5,\n",
    "    epsilon=1e-8,\n",
    ")\n",
    "\n",
    "# 7. Evaluate the trained model.\n",
    "trainer.evaluate_model()\n"
   ]
  },
  {
   "cell_type": "code",
   "execution_count": null,
   "metadata": {},
   "outputs": [],
   "source": []
  }
 ],
 "metadata": {
  "kernelspec": {
   "display_name": "base",
   "language": "python",
   "name": "python3"
  },
  "language_info": {
   "codemirror_mode": {
    "name": "ipython",
    "version": 3
   },
   "file_extension": ".py",
   "mimetype": "text/x-python",
   "name": "python",
   "nbconvert_exporter": "python",
   "pygments_lexer": "ipython3",
   "version": "3.12.7"
  }
 },
 "nbformat": 4,
 "nbformat_minor": 2
}
